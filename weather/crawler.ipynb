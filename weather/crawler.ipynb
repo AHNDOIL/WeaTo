{
 "cells": [
  {
   "cell_type": "code",
   "execution_count": 3,
   "id": "d6d2b8d5",
   "metadata": {
    "scrolled": true
   },
   "outputs": [],
   "source": [
    "from selenium import webdriver\n",
    "from selenium.webdriver.common.by import By \n",
    "from bs4 import BeautifulSoup\n",
    "import time"
   ]
  },
  {
   "cell_type": "code",
   "execution_count": 16,
   "id": "0e51f97f",
   "metadata": {},
   "outputs": [
    {
     "name": "stderr",
     "output_type": "stream",
     "text": [
      "C:\\Users\\User\\AppData\\Local\\Temp\\ipykernel_21428\\2616694854.py:2: DeprecationWarning: executable_path has been deprecated, please pass in a Service object\n",
      "  driver = webdriver.Chrome('./chromedriver.exe')\n"
     ]
    }
   ],
   "source": [
    "location = '대구광역시 중구 대봉동'\n",
    "driver = webdriver.Chrome('./chromedriver.exe')\n",
    "time.sleep(1)\n",
    "driver.get('https://www.naver.com/') # 네이버로 접속\n",
    "time.sleep(0.5)\n",
    "input_location = driver.find_element(By.XPATH, '//*[@id=\"query\"]') # 검색창 위치 찾기\n",
    "input_location.send_keys(f'{location} 날씨') # 날씨값 입력\n",
    "time.sleep(0.1)\n",
    "input_location.submit() # 검색 전송\n",
    "time.sleep(0.1)\n",
    "html = driver.page_source\n",
    "soup = BeautifulSoup(html, 'html.parser')"
   ]
  },
  {
   "cell_type": "markdown",
   "id": "c56857f4",
   "metadata": {},
   "source": [
    "# 온도"
   ]
  },
  {
   "cell_type": "code",
   "execution_count": 17,
   "id": "c9901aa5",
   "metadata": {},
   "outputs": [
    {
     "data": {
      "text/plain": [
       "[<span class=\"num\">34<span class=\"celsius\">°</span></span>,\n",
       " <span class=\"num\">33<span class=\"celsius\">°</span></span>,\n",
       " <span class=\"num\">32<span class=\"celsius\">°</span></span>,\n",
       " <span class=\"num\">31<span class=\"celsius\">°</span></span>,\n",
       " <span class=\"num\">30<span class=\"celsius\">°</span></span>,\n",
       " <span class=\"num\">29<span class=\"celsius\">°</span></span>,\n",
       " <span class=\"num\">29<span class=\"celsius\">°</span></span>,\n",
       " <span class=\"num\">28<span class=\"celsius\">°</span></span>]"
      ]
     },
     "execution_count": 17,
     "metadata": {},
     "output_type": "execute_result"
    }
   ],
   "source": [
    "temperature = soup.select('div.point_box>span.num')[0:8]\n",
    "temperature"
   ]
  },
  {
   "cell_type": "code",
   "execution_count": 73,
   "id": "97c23211",
   "metadata": {},
   "outputs": [
    {
     "name": "stdout",
     "output_type": "stream",
     "text": [
      "30\n",
      "31\n",
      "32\n",
      "32\n",
      "32\n",
      "33\n",
      "32\n",
      "31\n"
     ]
    }
   ],
   "source": [
    "for i in temperature:\n",
    "    print(i.text[-3:-1])"
   ]
  },
  {
   "cell_type": "markdown",
   "id": "3a33d229",
   "metadata": {},
   "source": [
    "# 강수확률"
   ]
  },
  {
   "cell_type": "code",
   "execution_count": 18,
   "id": "8d7b92bf",
   "metadata": {},
   "outputs": [
    {
     "data": {
      "text/plain": [
       "'-'"
      ]
     },
     "execution_count": 18,
     "metadata": {},
     "output_type": "execute_result"
    }
   ],
   "source": [
    "soup.select('div.icon_wrap>ul>li>em.value')[0:7][0].text"
   ]
  },
  {
   "cell_type": "markdown",
   "id": "f78a283e",
   "metadata": {},
   "source": [
    "# 습도"
   ]
  },
  {
   "cell_type": "code",
   "execution_count": 38,
   "id": "6755ca9c",
   "metadata": {},
   "outputs": [
    {
     "data": {
      "text/plain": [
       "[<span class=\"num\">35</span>,\n",
       " <span class=\"num\">40</span>,\n",
       " <span class=\"num\">40</span>,\n",
       " <span class=\"num\">55</span>,\n",
       " <span class=\"num\">60</span>,\n",
       " <span class=\"num\">65</span>,\n",
       " <span class=\"num\">65</span>]"
      ]
     },
     "execution_count": 38,
     "metadata": {},
     "output_type": "execute_result"
    }
   ],
   "source": [
    "soup.select('span.num')[-57:-50]"
   ]
  },
  {
   "cell_type": "code",
   "execution_count": 42,
   "id": "74091b7e",
   "metadata": {},
   "outputs": [
    {
     "data": {
      "text/plain": [
       "[<span class=\"num\">1</span>,\n",
       " <span class=\"num\">35</span>,\n",
       " <span class=\"num\">40</span>,\n",
       " <span class=\"num\">40</span>,\n",
       " <span class=\"num\">55</span>,\n",
       " <span class=\"num\">60</span>,\n",
       " <span class=\"num\">65</span>,\n",
       " <span class=\"num\">65</span>]"
      ]
     },
     "execution_count": 42,
     "metadata": {},
     "output_type": "execute_result"
    }
   ],
   "source": [
    "soups[0].select('span.num')[-58:-50]\n",
    "# 기상청 데이터"
   ]
  },
  {
   "cell_type": "code",
   "execution_count": 44,
   "id": "2e7b8fd5",
   "metadata": {},
   "outputs": [
    {
     "data": {
      "text/plain": [
       "[<span class=\"num\">1</span>,\n",
       " <span class=\"num\">35</span>,\n",
       " <span class=\"num\">40</span>,\n",
       " <span class=\"num\">40</span>,\n",
       " <span class=\"num\">55</span>,\n",
       " <span class=\"num\">60</span>,\n",
       " <span class=\"num\">65</span>,\n",
       " <span class=\"num\">65</span>]"
      ]
     },
     "execution_count": 44,
     "metadata": {},
     "output_type": "execute_result"
    }
   ],
   "source": [
    "soups[1].select('span.num')[-58:-50]\n",
    "# 아큐웨더 데이터"
   ]
  },
  {
   "cell_type": "code",
   "execution_count": 56,
   "id": "2eca5f3b",
   "metadata": {},
   "outputs": [
    {
     "data": {
      "text/plain": [
       "[<span class=\"num\">1</span>,\n",
       " <span class=\"num\">47</span>,\n",
       " <span class=\"num\">48</span>,\n",
       " <span class=\"num\">50</span>,\n",
       " <span class=\"num\">54</span>,\n",
       " <span class=\"num\">59</span>,\n",
       " <span class=\"num\">64</span>,\n",
       " <span class=\"num\">69</span>]"
      ]
     },
     "execution_count": 56,
     "metadata": {},
     "output_type": "execute_result"
    }
   ],
   "source": [
    "soups[2].select('span.num')[-73:-65]\n",
    "# 웨더채널 데이터"
   ]
  },
  {
   "cell_type": "code",
   "execution_count": 61,
   "id": "4e146876",
   "metadata": {},
   "outputs": [
    {
     "data": {
      "text/plain": [
       "[<span class=\"num\">3</span>,\n",
       " <span class=\"num\">43</span>,\n",
       " <span class=\"num\">43</span>,\n",
       " <span class=\"num\">47</span>,\n",
       " <span class=\"num\">52</span>,\n",
       " <span class=\"num\">57</span>,\n",
       " <span class=\"num\">70</span>,\n",
       " <span class=\"num\">71</span>]"
      ]
     },
     "execution_count": 61,
     "metadata": {},
     "output_type": "execute_result"
    }
   ],
   "source": [
    "soups[3].select('span.num')[-49:-41]"
   ]
  },
  {
   "cell_type": "markdown",
   "id": "25bd5e23",
   "metadata": {},
   "source": [
    "span에서 class가 num인 것만 추출하면 날씨, 강수, 바람, 습도의 데이터가 나오는데, 습도는 제일 뒷 부분 인것을 활용  \n",
    "weather, aqweather는 [-57:-50] 슬라이싱을 활용"
   ]
  },
  {
   "cell_type": "code",
   "execution_count": 11,
   "id": "c4b7543c",
   "metadata": {},
   "outputs": [],
   "source": [
    "def crawler(location):\n",
    "    soups = []\n",
    "    driver = webdriver.Chrome('./chromedriver.exe')\n",
    "    time.sleep(1)\n",
    "    driver.get('https://www.naver.com/') # 네이버로 접속\n",
    "    time.sleep(0.5)\n",
    "    input_location = driver.find_element(By.XPATH, '//*[@id=\"query\"]') # 검색창 위치 찾기\n",
    "    input_location.send_keys(f'{location} 날씨') # 날씨값 입력\n",
    "    time.sleep(0.1)\n",
    "    input_location.submit() # 검색 전송\n",
    "    time.sleep(0.1)\n",
    "    html = driver.page_source\n",
    "    soup_wether = BeautifulSoup(html, 'html.parser')\n",
    "    soups.append(soup_wether)\n",
    "    time.sleep(3) # 페이지가 늦게 렌더링 되었을때 오류가 나오는데, 이를 방지\n",
    "    driver.find_element(By.XPATH, '//*[@id=\"main_pack\"]/section[1]/div[1]/div[2]/div[1]/div[1]/div/div[1]/div[2]/a/strong').click() # 화살표 아래로\n",
    "    time.sleep(0.1)\n",
    "    driver.find_element(By.XPATH, '//*[@id=\"main_pack\"]/section[1]/div[1]/div[2]/div[1]/div[1]/div/div[1]/div[2]/div/div/div/div/div/ul/li[2]/a').click() # 아큐웨더\n",
    "    html = driver.page_source\n",
    "    soup_aqweather = BeautifulSoup(html, 'html.parser')\n",
    "    time.sleep(0.1)\n",
    "    soups.append(soup_aqweather)\n",
    "    driver.find_element(By.XPATH, '//*[@id=\"main_pack\"]/section[1]/div[1]/div[2]/div[1]/div[1]/div/div[1]/div[2]/a/strong').click() # 화살표 아래로\n",
    "    time.sleep(0.1)\n",
    "    driver.find_element(By.XPATH, '//*[@id=\"main_pack\"]/section[1]/div[1]/div[2]/div[1]/div[1]/div/div[1]/div[2]/div/div/div/div/div/ul/li[3]/a').click() # 웨더채널\n",
    "    html = driver.page_source\n",
    "    soup_weatherchannel = BeautifulSoup(html, 'html.parser')\n",
    "    soups.append(soup_weatherchannel)\n",
    "    time.sleep(0.1)\n",
    "    driver.find_element(By.XPATH, '//*[@id=\"main_pack\"]/section[1]/div[1]/div[2]/div[1]/div[1]/div/div[1]/div[2]/a/strong').click() # 화살표 아래로\n",
    "    time.sleep(0.1)\n",
    "    driver.find_element(By.XPATH, '//*[@id=\"main_pack\"]/section[1]/div[1]/div[2]/div[1]/div[1]/div/div[1]/div[2]/div/div/div/div/div/ul/li[4]/a').click() # 웨더뉴스\n",
    "    html = driver.page_source\n",
    "    soup_weathernews = BeautifulSoup(html, 'html.parser')\n",
    "    soups.append(soup_weathernews)\n",
    "    \n",
    "    return soups"
   ]
  },
  {
   "cell_type": "code",
   "execution_count": 12,
   "id": "7e0a3988",
   "metadata": {},
   "outputs": [
    {
     "name": "stderr",
     "output_type": "stream",
     "text": [
      "C:\\Users\\User\\AppData\\Local\\Temp\\ipykernel_16212\\2591965564.py:3: DeprecationWarning: executable_path has been deprecated, please pass in a Service object\n",
      "  driver = webdriver.Chrome('./chromedriver.exe')\n"
     ]
    }
   ],
   "source": [
    "soups = crawler('대구광역시 중구 대봉동')"
   ]
  },
  {
   "cell_type": "code",
   "execution_count": 13,
   "id": "df51dfb4",
   "metadata": {},
   "outputs": [],
   "source": [
    "def temperature(soups):\n",
    "    temperatures = {}\n",
    "    for i in range(4):\n",
    "        temp = []\n",
    "        for j in soups[i].select('div.point_box>span.num')[0:7]:# 7시간 동안의 기온 추출\n",
    "            temp.append(j.text[-3:-1])\n",
    "        if i == 0:\n",
    "            temperatures['weather'] = temp\n",
    "        elif i == 1:\n",
    "            temperatures['aqweather'] = temp\n",
    "        elif i == 2:\n",
    "            temperatures['weatherchannel'] = temp\n",
    "        elif i == 3:\n",
    "            temperatures['weathernews'] = temp\n",
    "    return temperatures"
   ]
  },
  {
   "cell_type": "code",
   "execution_count": 14,
   "id": "40a30b32",
   "metadata": {},
   "outputs": [
    {
     "data": {
      "text/plain": [
       "{'weather': ['34', '33', '31', '30', '29', '29', '28'],\n",
       " 'aqweather': ['34', '33', '31', '30', '29', '29', '28'],\n",
       " 'weatherchannel': ['31', '31', '30', '29', '28', '28', '27'],\n",
       " 'weathernews': ['33', '33', '31', '26', '26', '26', '27']}"
      ]
     },
     "execution_count": 14,
     "metadata": {},
     "output_type": "execute_result"
    }
   ],
   "source": [
    "temperature(soups)"
   ]
  },
  {
   "cell_type": "code",
   "execution_count": 15,
   "id": "79bd5c2b",
   "metadata": {},
   "outputs": [],
   "source": [
    "def rainprobability(soups):\n",
    "    rainprobabilities = {}\n",
    "    for i in range(4):\n",
    "        temp = []\n",
    "        for j in soups[i].select('div.icon_wrap>ul>li>em.value')[0:7]:\n",
    "            if j.text == '-':\n",
    "                temp.append('0%')\n",
    "            else:\n",
    "                temp.append(j.text)\n",
    "        if i == 0:\n",
    "            rainprobabilities['weather'] = temp\n",
    "        elif i == 1:\n",
    "            rainprobabilities['aqweather'] = temp\n",
    "        elif i == 2:\n",
    "            rainprobabilities['weatherchannel'] = temp\n",
    "        elif i == 3:\n",
    "            rainprobabilities['weathernews'] = temp\n",
    "            \n",
    "    return rainprobabilities"
   ]
  },
  {
   "cell_type": "code",
   "execution_count": 16,
   "id": "a48ee892",
   "metadata": {},
   "outputs": [
    {
     "data": {
      "text/plain": [
       "{'weather': ['0%', '0%', '0%', '0%', '0%', '30%', '60%'],\n",
       " 'aqweather': ['0%', '0%', '0%', '0%', '0%', '30%', '60%'],\n",
       " 'weatherchannel': ['2%', '3%', '5%', '5%', '5%', '6%', '6%'],\n",
       " 'weathernews': ['0%', '0%', '1%', '50%', '70%', '66%', '88%']}"
      ]
     },
     "execution_count": 16,
     "metadata": {},
     "output_type": "execute_result"
    }
   ],
   "source": [
    "rainprobability(soups)"
   ]
  },
  {
   "cell_type": "code",
   "execution_count": 19,
   "id": "76fc1c87",
   "metadata": {},
   "outputs": [],
   "source": [
    "def humidity(soups):\n",
    "    humidities = {}\n",
    "    for i in range(4):\n",
    "        temp = []\n",
    "        if (i == 0) or (i == 1):\n",
    "            for j in soups[i].select('span.num')[-56:-49]:\n",
    "                temp.append(j.text)\n",
    "            if i == 0:\n",
    "                humidities['weather'] = temp\n",
    "            else:\n",
    "                humidities['aqweather'] = temp\n",
    "        elif i == 2:\n",
    "            for j in soups[i].select('span.num')[-72:-65]:\n",
    "                temp.append(j.text)\n",
    "            humidities['weatherchannel'] = temp\n",
    "        elif i == 3:\n",
    "            for j in soups[i].select('span.num')[-48:-41]:\n",
    "                temp.append(j.text)\n",
    "            humidities['weathernews'] = temp\n",
    "    return humidities"
   ]
  },
  {
   "cell_type": "code",
   "execution_count": 20,
   "id": "0752507c",
   "metadata": {
    "scrolled": true
   },
   "outputs": [
    {
     "data": {
      "text/plain": [
       "{'weather': ['45', '45', '55', '60', '65', '65', '65'],\n",
       " 'aqweather': ['45', '45', '55', '60', '65', '65', '65'],\n",
       " 'weatherchannel': ['48', '50', '54', '59', '64', '69', '76'],\n",
       " 'weathernews': ['42', '47', '52', '57', '73', '73', '71']}"
      ]
     },
     "execution_count": 20,
     "metadata": {},
     "output_type": "execute_result"
    }
   ],
   "source": [
    "humidity(soups)"
   ]
  }
 ],
 "metadata": {
  "kernelspec": {
   "display_name": "Python 3 (ipykernel)",
   "language": "python",
   "name": "python3"
  },
  "language_info": {
   "codemirror_mode": {
    "name": "ipython",
    "version": 3
   },
   "file_extension": ".py",
   "mimetype": "text/x-python",
   "name": "python",
   "nbconvert_exporter": "python",
   "pygments_lexer": "ipython3",
   "version": "3.9.7"
  }
 },
 "nbformat": 4,
 "nbformat_minor": 5
}
